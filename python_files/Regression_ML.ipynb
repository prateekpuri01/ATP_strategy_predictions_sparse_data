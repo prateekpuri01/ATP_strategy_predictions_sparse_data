{
 "cells": [
  {
   "cell_type": "code",
   "execution_count": 254,
   "metadata": {},
   "outputs": [],
   "source": [
    "import matplotlib\n",
    "import matplotlib.pyplot as plt \n",
    "import pandas as pd\n",
    "import numpy as np\n",
    "import pickle\n",
    "import csv\n",
    "import os\n",
    "%matplotlib inline\n",
    "\n",
    "path=\"C:\\\\Users\\\\Anjana Puri\\\\Documents\\\\Python\\\\TennisProject\\\\JosephSackmann Data\\\\tennis_atp-master\\\\tennis_atp-master\"\n",
    "os.chdir(path)\n",
    "\n"
   ]
  },
  {
   "cell_type": "code",
   "execution_count": 255,
   "metadata": {},
   "outputs": [],
   "source": [
    "#load in all relevant data files\n",
    "pickle_file = \"player_serve_info.pkl\"\n",
    "with open(pickle_file, 'rb') as handle:\n",
    "    player_serve_info = pickle.load(handle)\n",
    "    \n",
    "pickle_file = \"player_match_number_info.pkl\"\n",
    "with open(pickle_file, 'rb') as handle:\n",
    "    num_matches = pickle.load(handle)\n",
    "    \n",
    "pickle_file = \"name_to_id.pkl\"\n",
    "with open(pickle_file, 'rb') as handle:\n",
    "    name_to_id = pickle.load(handle)\n",
    "\n",
    "pickle_file = \"id_to_name.pkl\"\n",
    "with open(pickle_file, 'rb') as handle:\n",
    "    id_to_name = pickle.load(handle)\n",
    "\n",
    "    \n",
    "with open('active_players.csv', 'r') as f:\n",
    "    reader = csv.reader(f)\n",
    "    player_list = list(reader)\n",
    "active_player_list=[''.join(x) for x in list(filter(lambda a: a != [], player_list))]    \n",
    "\n",
    "with open('top_30_players.csv', 'r') as f:\n",
    "    reader = csv.reader(f)\n",
    "    top_player_list = list(reader)\n",
    "top_player_list=[''.join(x) for x in list(filter(lambda a: a != [], top_player_list))] \n",
    "\n",
    "mc_df= pd.read_pickle('MC_results.pkl')"
   ]
  },
  {
   "cell_type": "code",
   "execution_count": 256,
   "metadata": {},
   "outputs": [],
   "source": [
    "df=pd.read_pickle('enhancement_metrics.pkl')\n",
    "def serve_retrieve(p1,p2):\n",
    "    return df.loc[p2,p1][\"Serve percentages\"]\n",
    "\n",
    "\n",
    "match_number_df=df.copy().reset_index()\n",
    "match_number_df=match_number_df[match_number_df['Number of Matches']>=10]\n",
    "\n",
    "\n",
    "#look at a slice of all places with greater than 10 matches and create a matrix of all relevant serving statistics and win percentages\n",
    "#these values will be used as features/classes later\n",
    "match_number_df['Win Percentage']=match_number_df['Number of Wins']/match_number_df['Number of Matches']\n",
    "match_number_df['P1 FSWP']=match_number_df['Serve percentages'].apply(lambda x: x[0]*x[1])\n",
    "match_number_df['P1 SSWP']=match_number_df['Serve percentages'].apply(lambda x: x[2]*x[3])\n",
    "match_number_df['P2 FSWP']=list(match_number_df[['Player 1 (P1)','Player 2 (P2)']].apply(lambda x: serve_retrieve(*x)[0]*serve_retrieve(*x)[1], axis=1))\n",
    "match_number_df['P2 SSWP']=list(match_number_df[['Player 1 (P1)','Player 2 (P2)']].apply(lambda x: serve_retrieve(*x)[2]*serve_retrieve(*x)[3], axis=1))\n",
    "data_matrix=match_number_df[['Win Percentage','P1 FSWP','P1 SSWP','P2 FSWP','P2 SSWP']]\n",
    "\n"
   ]
  },
  {
   "cell_type": "code",
   "execution_count": 257,
   "metadata": {},
   "outputs": [
    {
     "name": "stdout",
     "output_type": "stream",
     "text": [
      "R-squared score (training): 0.763\n",
      "R-squared score (test): 0.786\n"
     ]
    }
   ],
   "source": [
    "from sklearn.preprocessing import MinMaxScaler\n",
    "from sklearn.linear_model import Ridge\n",
    "from sklearn.preprocessing import MinMaxScaler\n",
    "from sklearn.linear_model import LogisticRegression\n",
    "from sklearn.svm import SVC\n",
    "from sklearn.model_selection import train_test_split\n",
    "from sklearn.neighbors import KNeighborsClassifier\n",
    "from sklearn.tree import DecisionTreeClassifier\n",
    "from sklearn.ensemble import RandomForestClassifier\n",
    "from sklearn.ensemble import GradientBoostingClassifier\n",
    "from sklearn.dummy import DummyClassifier\n",
    "from sklearn.preprocessing import PolynomialFeatures\n",
    "from sklearn.linear_model import LogisticRegression\n",
    "from sklearn.linear_model import LinearRegression\n",
    "\n",
    "\n",
    "#perform linear regression using this feature/class data\n",
    "\n",
    "X_train, X_test, y_train, y_test = train_test_split(data_matrix.iloc[:,1:], data_matrix.iloc[:,0])\n",
    "\n",
    "linridge = LinearRegression().fit(X_train, y_train)\n",
    "\n",
    "\n",
    "print('R-squared score (training): {:.3f}'\n",
    "     .format(linridge.score(X_train, y_train)))\n",
    "print('R-squared score (test): {:.3f}'\n",
    "     .format(linridge.score(X_test, y_test)))\n"
   ]
  },
  {
   "cell_type": "code",
   "execution_count": 259,
   "metadata": {},
   "outputs": [
    {
     "data": {
      "image/png": "[encoded data removed]",
      "text/plain": [
       "<Figure size 432x288 with 1 Axes>"
      ]
     },
     "metadata": {
      "needs_background": "light"
     },
     "output_type": "display_data"
    }
   ],
   "source": [
    "#plot results of test data prediction from LR model against actual player winning percentages\n",
    "\n",
    "x_data_ml=linridge.predict(X_test)\n",
    "y_data_ml=y_test\n",
    "\n",
    "plt.figure()\n",
    "plt.scatter(x_data_ml,y_data_ml,label='LR data')\n",
    "rsquared=1-sum((np.array(y_data_ml)-np.array(x_data_ml))**2)/sum((np.array(y_data_ml)-np.mean(y_data_ml))**2)\n",
    "plt.plot(np.linspace(0,1,100),np.linspace(0,1,100),linewidth=5,color='red',linestyle='--',label='Perfect fit line (R$^2$: {:.2f})'.format(rsquared))\n",
    "plt.xlabel('Linear regression (LR) prediction')\n",
    "plt.ylabel('Actual match WP')\n",
    "plt.legend()\n",
    "plt.savefig('ML_vs_WLR_calibration.png')\n"
   ]
  },
  {
   "cell_type": "code",
   "execution_count": 260,
   "metadata": {},
   "outputs": [],
   "source": [
    "safe_strat_df=df.copy().reset_index()\n",
    "safe_strat_df=safe_strat_df[safe_strat_df['Number of Matches']>=5]\n",
    "selection1=list(safe_strat_df['Player 1 (P1)'].apply(lambda x:  True if (x in active_player_list) and (x in top_player_list) else False))\n",
    "safe_strat_df=safe_strat_df[selection1]\n",
    "selection2=list(safe_strat_df['Player 2 (P2)'].apply(lambda x: True if (x in active_player_list) and (x in top_player_list) else False))\n",
    "safe_strat_df=safe_strat_df[selection2]\n",
    "\n",
    "\n",
    "safe_strat_df['P1 FSWP']=safe_strat_df['Serve percentages'].apply(lambda x: x[0]*x[1])\n",
    "safe_strat_df['P1 SSWP']=safe_strat_df['Serve percentages'].apply(lambda x: x[2]*x[3])\n",
    "safe_strat_df['P2 FSWP']=list(safe_strat_df[['Player 1 (P1)','Player 2 (P2)']].apply(lambda x: serve_retrieve(*x)[0]*serve_retrieve(*x)[1], axis=1))\n",
    "safe_strat_df['P2 SSWP']=list(safe_strat_df[['Player 1 (P1)','Player 2 (P2)']].apply(lambda x: serve_retrieve(*x)[2]*serve_retrieve(*x)[3], axis=1))\n",
    "data_matrix=safe_strat_df[['Player 1 (P1)','Player 2 (P2)','P1 FSWP','P1 SSWP','P2 FSWP','P2 SSWP']]\n",
    "safe_predict=linridge.predict(data_matrix.iloc[:,2:])"
   ]
  },
  {
   "cell_type": "code",
   "execution_count": 261,
   "metadata": {},
   "outputs": [],
   "source": [
    "#okay now let's construct a dataframe of all top30 active player matchup and construct our feature matrix just like above\n",
    "\n",
    "risky_strat_df=df.copy().reset_index()\n",
    "risky_strat_df=risky_strat_df[risky_strat_df['Number of Matches']>=5]\n",
    "selection1=list(risky_strat_df['Player 1 (P1)'].apply(lambda x:  True if (x in active_player_list) and (x in top_player_list) else False))\n",
    "risky_strat_df=risky_strat_df[selection1]\n",
    "selection2=list(risky_strat_df['Player 2 (P2)'].apply(lambda x: True if (x in active_player_list) and (x in top_player_list) else False))\n",
    "risky_strat_df=risky_strat_df[selection2]\n",
    "\n",
    "risky_strat_df['P1 FSWP']=risky_strat_df['Serve percentages'].apply(lambda x: x[0]*x[1])\n",
    "risky_strat_df['P1 SSWP']=risky_strat_df['Serve percentages'].apply(lambda x: x[0]*x[1])\n",
    "risky_strat_df['P2 FSWP']=list(risky_strat_df[['Player 1 (P1)','Player 2 (P2)']].apply(lambda x: serve_retrieve(*x)[0]*serve_retrieve(*x)[1], axis=1))\n",
    "risky_strat_df['P2 SSWP']=list(risky_strat_df[['Player 1 (P1)','Player 2 (P2)']].apply(lambda x: serve_retrieve(*x)[2]*serve_retrieve(*x)[3], axis=1))\n",
    "data_matrix=risky_strat_df[['Player 1 (P1)','Player 2 (P2)','P1 FSWP','P1 SSWP','P2 FSWP','P2 SSWP']]\n",
    "risky_predict=linridge.predict(data_matrix.iloc[:,2:])"
   ]
  },
  {
   "cell_type": "code",
   "execution_count": 262,
   "metadata": {},
   "outputs": [],
   "source": [
    "#now store the difference between the risky strat win percentage predictions and the safe strat predicitons\n",
    "players_names=data_matrix.iloc[:,0:2].values\n",
    "ML_results=sorted([(id_to_name[players_names[i][0]],id_to_name[players_names[i][1]],risky_predict[i]-safe_predict[i]) for i in range(len(players_names))],key=lambda x:x[2],reverse=True)"
   ]
  },
  {
   "cell_type": "code",
   "execution_count": 172,
   "metadata": {},
   "outputs": [],
   "source": [
    "#now consttruct a similar dataframr for the MC method (restrict to top 30 players with 5 matches in matchup history)\n",
    "\n",
    "\n",
    "model_scale=0.8701\n",
    "def calculate_diff(WP1,WP2): #WP1 = MC winning percentage with strategy (x), WP2= MC winning percentage with strategy (y)\n",
    "                            #return: expected difference in real-life win percentages according to earlier fit function\n",
    "    return model_scale*(WP1-WP2)\n",
    "\n",
    "mc_df=pd.read_pickle('MC_results.pkl')\n",
    "mc_df=mc_df[mc_df['Real life number of matches']>=5]\n",
    "mc_df['Model differences']=list(map(calculate_diff,mc_df['Bold MC win percentage'],mc_df['Timid MC win percentage']))\n",
    "active_matchup_list=mc_df.copy().reset_index()[['Player 1 Name','Player 2 Name','Real life number of matches','Model differences']]\n",
    "active_matchup_list=active_matchup_list[active_matchup_list['Player 1 Name'].apply(lambda x: name_to_id[x] in top_player_list) & active_matchup_list['Player 2 Name'].apply(lambda x: name_to_id[x] in top_player_list)]\n",
    "active_matchup_list=active_matchup_list[active_matchup_list['Real life number of matches']>=5].sort_values(by='Model differences')\n",
    "selection1=list(active_matchup_list['Player 1 Name'].apply(lambda x:  True if name_to_id[x] in active_player_list else False))\n",
    "active_matchup_list=active_matchup_list[selection1]\n",
    "selection2=list(active_matchup_list['Player 2 Name'].apply(lambda x: True if name_to_id[x] in active_player_list else False))\n",
    "active_matchup_list=active_matchup_list[selection2][['Player 1 Name','Player 2 Name','Model differences']]"
   ]
  },
  {
   "cell_type": "code",
   "execution_count": 263,
   "metadata": {},
   "outputs": [],
   "source": [
    "#now we want to compare the MC and ML results\n",
    "#create some dictionaries to map each model to the relevant predicitons\n",
    "#I could have kept both things in the data frame here but decided not in case the dict is convenient later\n",
    "\n",
    "\n",
    "MC_result=active_matchup_list.values\n",
    "MC_dict={}\n",
    "ML_dict={}\n",
    "for item in MC_result:\n",
    "    MC_dict[(item[0],item[1])]=item[2]\n",
    "for item in ML_results:\n",
    "    ML_dict[(item[0],item[1])]=item[2]\n"
   ]
  },
  {
   "cell_type": "code",
   "execution_count": 264,
   "metadata": {},
   "outputs": [],
   "source": [
    "# now populate vectors with the predicitons for each matchup, with the value at the same index in each vector referring to a particular mathcup\n",
    "\n",
    "\n",
    "x_predict=[]\n",
    "y_predict=[]\n",
    "for pairs in MC_dict.keys():\n",
    "    try:\n",
    "        x_predict.append(MC_dict[pairs])\n",
    "        y_predict.append(ML_dict[pairs])\n",
    "    except KeyError:\n",
    "        pass"
   ]
  },
  {
   "cell_type": "code",
   "execution_count": 266,
   "metadata": {},
   "outputs": [
    {
     "data": {
      "image/png": "[encoded data removed]",
      "text/plain": [
       "<Figure size 432x288 with 1 Axes>"
      ]
     },
     "metadata": {
      "needs_background": "light"
     },
     "output_type": "display_data"
    }
   ],
   "source": [
    "#finally let's plot hese vector against one another and check for a one-to-one correlation\n",
    "\n",
    "plt.figure()\n",
    "plt.scatter(x_predict,y_predict)\n",
    "mean_values=np.mean(y_predict)\n",
    "rsquared=1-sum((np.array(y_predict)-np.array(x_predict))**2)/sum((np.array(y_predict)-mean_values)**2)\n",
    "plt.plot(np.linspace(-1,1,100),np.linspace(-1,1,100),linewidth=5,color='red',linestyle=\"--\",label='R$^2$ ={:.2f}'.format(rsquared))\n",
    "plt.xlim(-.3,.25)\n",
    "plt.ylim(-.3,.25)\n",
    "plt.xlabel('Monte Carlo results')\n",
    "plt.ylabel('Linear Regression results')\n",
    "plt.title('MC vs ML calibration')\n",
    "plt.legend()\n",
    "plt.savefig('ML_vs_MC_calibration.png')"
   ]
  },
  {
   "cell_type": "code",
   "execution_count": null,
   "metadata": {},
   "outputs": [],
   "source": []
  }
 ],
 "metadata": {
  "kernelspec": {
   "display_name": "Python 3",
   "language": "python",
   "name": "python3"
  },
  "language_info": {
   "codemirror_mode": {
    "name": "ipython",
    "version": 3
   },
   "file_extension": ".py",
   "mimetype": "text/x-python",
   "name": "python",
   "nbconvert_exporter": "python",
   "pygments_lexer": "ipython3",
   "version": "3.7.3"
  }
 },
 "nbformat": 4,
 "nbformat_minor": 2
}
